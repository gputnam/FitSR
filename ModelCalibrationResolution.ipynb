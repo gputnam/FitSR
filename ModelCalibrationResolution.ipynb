{
 "cells": [
  {
   "cell_type": "code",
   "execution_count": null,
   "metadata": {},
   "outputs": [],
   "source": [
    "import numpy as np\n",
    "import matplotlib.pyplot as plt\n",
    "import uproot\n",
    "import matplotlib as mpl\n",
    "import json\n",
    "\n",
    "import statistics\n",
    "\n",
    "from scipy.optimize import curve_fit\n",
    "from scipy import interpolate"
   ]
  },
  {
   "cell_type": "code",
   "execution_count": null,
   "metadata": {},
   "outputs": [],
   "source": [
    "# MPL config\n",
    "mpl.rc('font', size=14)\n",
    "\n",
    "dosave = False\n",
    "savedir = \"/home/grayputnam/Work/Winter2023/Feb19Plots/\""
   ]
  },
  {
   "cell_type": "code",
   "execution_count": null,
   "metadata": {},
   "outputs": [],
   "source": [
    "# Configuration\n",
    "\n",
    "# Plane\n",
    "IPLANE = 1\n",
    "\n",
    "# Filename for WC configuration containing electron paths\n",
    "WCpaths_filename = \"./garfield-icarus-fnal-rev1.json\"\n",
    "# Time spacing in file\n",
    "time = np.linspace(0,100,1000, endpoint=False)\n",
    "\n",
    "# Filename and histogram with electronics response\n",
    "fER = \"elecResp_ICARUS.root\"\n",
    "fERh = uproot.open(fER)[\"ER\"]\n",
    "\n",
    "# Noise histos\n",
    "fNoise = \"dataFFTHistosWW.root\"\n",
    "fNoiseh = uproot.open(fNoise)[\"intpowerI1\"]\n",
    "\n",
    "# what angle to simulate\n",
    "THXW_DEG = 45\n",
    "\n",
    "# Process the configuration\n",
    "dt = time[1] - time[0]\n",
    "\n",
    "ER_val = fERh.values()\n",
    "ER_time = fERh.axis().centers()\n",
    "ER = interpolate.interp1d(ER_time, ER_val, kind=\"linear\", bounds_error=False, fill_value=0)"
   ]
  },
  {
   "cell_type": "code",
   "execution_count": null,
   "metadata": {},
   "outputs": [],
   "source": [
    "len(fNoiseh.axis().centers())"
   ]
  },
  {
   "cell_type": "code",
   "execution_count": null,
   "metadata": {},
   "outputs": [],
   "source": [
    "plt.plot(fNoiseh.axis().centers(), fNoiseh.values())"
   ]
  },
  {
   "cell_type": "code",
   "execution_count": null,
   "metadata": {},
   "outputs": [],
   "source": [
    "# Helper functions\n",
    "def convolve(f1, f2):\n",
    "    '''\n",
    "    Return the simple convolution of the two arrays using FFT+mult+invFFT method.\n",
    "    '''\n",
    "    # fftconvolve adds an unwanted time shift\n",
    "    #from scipy.signal import fftconvolve\n",
    "    #return fftconvolve(field, elect, \"same\")\n",
    "    s1 = np.fft.fft(f1)\n",
    "    s2 = np.fft.fft(f2)\n",
    "    sig = np.fft.ifft(s1*s2)\n",
    "\n",
    "    return np.real(sig)\n",
    "\n",
    "def gaus(t, sigma):\n",
    "    return np.exp(-t**2/(2*sigma**2))\n",
    "\n",
    "def agaus(t, sigmalo, sigmahi):\n",
    "    return np.exp(-t**2/(2*sigmalo**2))*(t < 0) + np.exp(-t**2/(2*sigmahi**2))*(t >= 0)\n",
    "\n",
    "def norm(v, vnorm=None):\n",
    "    if vnorm is None:\n",
    "        vnorm = v\n",
    "    if IPLANE == 2:\n",
    "        return v / vnorm.max()\n",
    "    else:\n",
    "        return v / np.abs(vnorm.min())\n",
    "    \n",
    "def center(t, v):\n",
    "    if IPLANE == 0: # Ind-0 -- center on down-peak\n",
    "        return t - t[np.argmin(v)]\n",
    "    elif IPLANE == 2: # Collection -- center on peak\n",
    "        return t - t[np.argmax(v)]\n",
    "    else: # Ind-1 -- center on zero-cross\n",
    "        center_ind = np.argmin(np.abs(v[np.argmax(v):np.argmin(v)])) + np.argmax(v)\n",
    "        return t - t[center_ind]\n",
    "    \n",
    "def peak_pos(v):\n",
    "    search_lo = 1160\n",
    "    search_hi = 1210\n",
    "    \n",
    "    if IPLANE == 2:\n",
    "        return np.argmax(v[search_lo:search_hi]) + search_lo\n",
    "    else:\n",
    "        return np.argmin(v[search_lo:search_hi]) + search_lo\n",
    "    \n",
    "def gen_noise(scale, noise_rand=0.1):\n",
    "    noise_v = fNoiseh.values()\n",
    "    noise_v = noise_v[1:len(noise_v)//2+1]\n",
    "    \n",
    "    r1 = np.random.random(noise_v.size)\n",
    "    r2 = np.random.random(noise_v.size)\n",
    "    \n",
    "    pval = noise_v*((1-noise_rand) + 2*noise_rand*r1)*scale\n",
    "    phase = 2*np.pi*r2\n",
    "    noisevec = pval*np.exp(1j*phase)\n",
    "    noisevec = np.array([0] + list(noisevec))\n",
    "    return np.fft.irfft(noisevec)\n",
    "\n",
    "N = gen_noise(1)\n",
    "noise_power = np.sqrt(np.sum(N**2)/len(N)) \n",
    "\n",
    "noise_power"
   ]
  },
  {
   "cell_type": "code",
   "execution_count": null,
   "metadata": {},
   "outputs": [],
   "source": [
    "dat = json.load(open(WCpaths_filename))\n",
    "\n",
    "driftV = dat[\"FieldResponse\"][\"speed\"]*1e3 # mm/us\n",
    "\n",
    "thispaths = dat[\"FieldResponse\"][\"planes\"][IPLANE][\"PlaneResponse\"][\"paths\"]\n",
    "\n",
    "pitchpos_f = [path[\"PathResponse\"][\"pitchpos\"] for path in thispaths] # mm\n",
    "\n",
    "paths_f = [np.array(path[\"PathResponse\"][\"current\"][\"array\"][\"elements\"])\n",
    "             for path in thispaths]\n",
    "\n",
    "\n",
    "pitchpos = []\n",
    "paths = []\n",
    "\n",
    "for i, (ppos, path) in enumerate(zip(pitchpos_f, paths_f)):\n",
    "    pitchpos.append(ppos)\n",
    "    paths.append(path)\n",
    "    if -ppos not in pitchpos_f:\n",
    "        pitchpos.append(-ppos)\n",
    "        paths.append(path)\n",
    "    # handle boundary between (half-)wires\n",
    "    else:\n",
    "        paths[-1] = tuple([paths[-1], paths_f[pitchpos_f.index(-ppos)]])\n",
    "        \n",
    "pitchpos, paths = zip(*sorted(zip(pitchpos, paths), key=lambda pair: pair[0]))\n",
    "pitchpos = np.array(pitchpos)"
   ]
  },
  {
   "cell_type": "code",
   "execution_count": null,
   "metadata": {},
   "outputs": [],
   "source": [
    "for p, path in zip(pitchpos, paths):\n",
    "    if isinstance(path, tuple):\n",
    "        plt.plot(time, -path[0])\n",
    "    else:\n",
    "        plt.plot(time, -path)\n",
    "    \n",
    "plt.title(\"Wire-Cell Electron Path Responses\")\n",
    "plt.xlabel(\"Time [$\\\\mu$s]\")\n",
    "plt.ylabel(\"Current\")\n",
    "\n",
    "plt.xlim([58 - 2*(2-IPLANE), 66 - 2*(2-IPLANE)])\n",
    "plt.tight_layout()\n",
    "\n",
    "if dosave: plt.savefig(savedir + \"pathResp.pdf\")"
   ]
  },
  {
   "cell_type": "code",
   "execution_count": null,
   "metadata": {},
   "outputs": [],
   "source": [
    "# interpolate the paths with a finer spacing (0.03mm)\n",
    "# avoid edge effects by spacing in between the discontinuities in the paths (every 1.5mm)\n",
    "pitchpos_interp = np.linspace(pitchpos.min(), pitchpos.max(), 2101) + 0.015\n",
    "paths_interp = []\n",
    "\n",
    "for i, p in enumerate(pitchpos_interp):\n",
    "    i_pitchpos = int((p - pitchpos[0]+1e-6) / (pitchpos[1] - pitchpos[0]))\n",
    "    if i_pitchpos == len(pitchpos) - 1:\n",
    "        path = paths[i_pitchpos]\n",
    "    else:\n",
    "        F1 = paths[i_pitchpos]\n",
    "        F2 = paths[i_pitchpos+1]\n",
    "        \n",
    "        # handle boundary between (half-)wires\n",
    "        if isinstance(F1, tuple):\n",
    "            if p > pitchpos[i_pitchpos]:\n",
    "                F1 = F1[0]\n",
    "            else:\n",
    "                F1 = F1[1]\n",
    "        if isinstance(F2, tuple):\n",
    "            if p > pitchpos[i_pitchpos+1]:\n",
    "                F2 = F2[0]\n",
    "            else:\n",
    "                F2 = F2[1]\n",
    "                \n",
    "        interp = (pitchpos[i_pitchpos+1] - p)/(pitchpos[1] - pitchpos[0])\n",
    "        path = F1*interp + F2*(1-interp)\n",
    "\n",
    "    paths_interp.append(path)"
   ]
  },
  {
   "cell_type": "code",
   "execution_count": null,
   "metadata": {},
   "outputs": [],
   "source": [
    "# Compute the interpolated field response at this track angle\n",
    "thxw = THXW_DEG*np.pi/180\n",
    "shift = (np.tan(thxw)*pitchpos_interp/driftV/dt).astype(int)\n",
    "\n",
    "shifted_paths = []\n",
    "for i in range(len(paths_interp)):\n",
    "\n",
    "    s = shift[i]\n",
    "    shifted_paths.append(np.roll(paths_interp[i], s))\n",
    "\n",
    "    if s < 0:\n",
    "        shifted_paths[i][s:] = 0\n",
    "    if s > 0:\n",
    "        shifted_paths[i][:s] = 0\n",
    "        \n",
    "field_response = -sum(shifted_paths)\n",
    "SR = convolve(field_response, ER(time))\n",
    "timeplt = center(time, SR)\n",
    "\n",
    "SR_power = np.max(SR)"
   ]
  },
  {
   "cell_type": "code",
   "execution_count": null,
   "metadata": {},
   "outputs": [],
   "source": [
    "tdcs = np.linspace(-1024*0.4, 1023*0.4, 2048)"
   ]
  },
  {
   "cell_type": "code",
   "execution_count": null,
   "metadata": {},
   "outputs": [],
   "source": [
    "# Build SR on timeticks\n",
    "SR_interp = interpolate.interp1d(time, SR, kind=\"linear\", bounds_error=False, fill_value=0)\n",
    "\n",
    "wvf = SR_interp(tdcs)"
   ]
  },
  {
   "cell_type": "code",
   "execution_count": null,
   "metadata": {},
   "outputs": [],
   "source": [
    "plt.plot(center(tdcs, wvf), wvf)\n",
    "plt.xlim([-10, 10])"
   ]
  },
  {
   "cell_type": "code",
   "execution_count": null,
   "metadata": {},
   "outputs": [],
   "source": [
    "plt.plot(center(tdcs, wvf), wvf + gen_noise(0.2*SR_power/noise_power))\n",
    "plt.xlim([-10, 10])"
   ]
  },
  {
   "cell_type": "code",
   "execution_count": null,
   "metadata": {},
   "outputs": [],
   "source": [
    "S2N = [10, 5, 3]"
   ]
  },
  {
   "cell_type": "code",
   "execution_count": null,
   "metadata": {},
   "outputs": [],
   "source": [
    "allinds = []\n",
    "\n",
    "for s2n in S2N:\n",
    "    inds = []\n",
    "    for _ in range(10_000):\n",
    "        noise = gen_noise(SR_power/s2n/noise_power)\n",
    "        ind = peak_pos(wvf+noise)\n",
    "        inds.append(ind)\n",
    "    \n",
    "    allinds.append(inds)"
   ]
  },
  {
   "cell_type": "code",
   "execution_count": null,
   "metadata": {},
   "outputs": [],
   "source": [
    "bins = np.linspace(-7, 7, 15)-0.5\n",
    "\n",
    "_ = plt.hist(allinds[0] - peak_pos(wvf), \n",
    "             bins=bins, density=True, histtype=\"step\", label=\"S/N: 10\")\n",
    "_ = plt.hist(allinds[1] - peak_pos(wvf), \n",
    "             bins=bins, density=True, histtype=\"step\", label=\"S/N: 5\")\n",
    "_ = plt.hist(allinds[2] - peak_pos(wvf), \n",
    "             bins=bins, density=True, histtype=\"step\", label=\"S/N: 3\")\n",
    "\n",
    "ticks = np.linspace(-7.5, 6.5, 201)\n",
    "# plt.plot(ticks, gaus(ticks, 0.5/0.4)/np.sqrt(2*np.pi*(0.5/0.4**2)), color=\"black\", linestyle=\"--\")\n",
    "plt.plot(ticks, agaus(ticks, 0.5/0.4, 1/0.4)/np.sqrt(2*np.pi*(0.5/0.4**2)), color=\"black\", linestyle=\"--\")\n",
    "\n",
    "plt.legend()\n",
    "plt.ylabel(\"Probability\")\n",
    "plt.xlabel(\"Selected Peak Offset\")\n",
    "plt.title(\"Plane %i, $\\\\theta_{xw}: %i^\\\\circ$\" % (IPLANE, THXW_DEG))"
   ]
  },
  {
   "cell_type": "code",
   "execution_count": null,
   "metadata": {},
   "outputs": [],
   "source": [
    "def peak_pos(v):\n",
    "    search_lo = 1160\n",
    "    search_hi = 1210\n",
    "    \n",
    "    v_search = v[search_lo:search_hi]\n",
    "    v_max = np.argmax(v_search) + search_lo\n",
    "    v_min = np.argmin(v_search) + search_lo\n",
    "    return (v_max + v_min) / 2"
   ]
  },
  {
   "cell_type": "code",
   "execution_count": null,
   "metadata": {},
   "outputs": [],
   "source": [
    "allinds = []\n",
    "\n",
    "for s2n in S2N:\n",
    "    inds = []\n",
    "    for _ in range(10_000):\n",
    "        noise = gen_noise(SR_power/s2n/noise_power)\n",
    "        ind = peak_pos(wvf+noise)\n",
    "        inds.append(ind)\n",
    "    \n",
    "    allinds.append(inds)"
   ]
  },
  {
   "cell_type": "code",
   "execution_count": null,
   "metadata": {},
   "outputs": [],
   "source": [
    "bins = np.linspace(-7, 7, 15)-0.5\n",
    "\n",
    "_ = plt.hist(allinds[0] - peak_pos(wvf), \n",
    "             bins=bins, density=True, histtype=\"step\", label=\"S/N: 10\")\n",
    "_ = plt.hist(allinds[1] - peak_pos(wvf), \n",
    "             bins=bins, density=True, histtype=\"step\", label=\"S/N: 5\")\n",
    "_ = plt.hist(allinds[2] - peak_pos(wvf), \n",
    "             bins=bins, density=True, histtype=\"step\", label=\"S/N: 3\")\n",
    "plt.legend()\n",
    "plt.ylabel(\"Probability\")\n",
    "plt.xlabel(\"Selected Peak Offset\")\n",
    "plt.title(\"Plane %i, $\\\\theta_{xw}: %i^\\\\circ$\" % (IPLANE, THXW_DEG))"
   ]
  },
  {
   "cell_type": "code",
   "execution_count": null,
   "metadata": {},
   "outputs": [],
   "source": []
  }
 ],
 "metadata": {
  "kernelspec": {
   "display_name": "Python 3",
   "language": "python",
   "name": "python3"
  },
  "language_info": {
   "codemirror_mode": {
    "name": "ipython",
    "version": 3
   },
   "file_extension": ".py",
   "mimetype": "text/x-python",
   "name": "python",
   "nbconvert_exporter": "python",
   "pygments_lexer": "ipython3",
   "version": "3.8.10"
  }
 },
 "nbformat": 4,
 "nbformat_minor": 4
}
