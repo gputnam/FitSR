{
 "cells": [
  {
   "cell_type": "code",
   "execution_count": null,
   "metadata": {},
   "outputs": [],
   "source": [
    "import json\n",
    "import numpy as np\n",
    "import matplotlib.pyplot as plt"
   ]
  },
  {
   "cell_type": "code",
   "execution_count": null,
   "metadata": {},
   "outputs": [],
   "source": [
    "basedir = \"/home/grayputnam/Work/Winter2023/Mar29FitSignal/\"\n",
    "filename = \"icarus_fnal_rc_tail.json\"\n",
    "OUTPUT = basedir + filename"
   ]
  },
  {
   "cell_type": "code",
   "execution_count": null,
   "metadata": {},
   "outputs": [],
   "source": [
    "RC_TAU = 51\n",
    "RC_FRAC = 0.161 / (1 - 0.161)\n",
    "TICK = 0.4\n",
    "\n",
    "# times = np.linspace(0, 4000, 40_000, endpoint=False)\n",
    "times = np.linspace(0, 4255*TICK, 4255, endpoint=False)\n",
    "\n",
    "assert(TICK == times[1] - times[0])\n",
    "\n",
    "RC_FRAC, times"
   ]
  },
  {
   "cell_type": "code",
   "execution_count": null,
   "metadata": {},
   "outputs": [],
   "source": [
    "# Tail\n",
    "RC = np.exp(-times/RC_TAU) * (RC_FRAC*TICK / RC_TAU)\n",
    "\n",
    "# delta\n",
    "RC[0] += 1\n",
    "\n",
    "#RC = np.exp(-times**2)"
   ]
  },
  {
   "cell_type": "code",
   "execution_count": null,
   "metadata": {},
   "outputs": [],
   "source": [
    "np.sum(RC)"
   ]
  },
  {
   "cell_type": "code",
   "execution_count": null,
   "metadata": {},
   "outputs": [],
   "source": [
    "plt.plot(times[times < 80], RC[times < 80])\n",
    "plt.yscale(\"log\")"
   ]
  },
  {
   "cell_type": "code",
   "execution_count": null,
   "metadata": {},
   "outputs": [],
   "source": [
    "# Config\n",
    "config = {\n",
    "    \"filename\": filename,\n",
    "    \"postgain\": 1.,\n",
    "    \"start\": 0.,\n",
    "    \"tick\": 400,\n",
    "    \"ntick\": 4255,\n",
    "    \"type\": \"JsonElecResponse\",\n",
    "    \"rc_layers\": 1\n",
    "}\n",
    "\n",
    "print(json.dumps(config, indent=2))"
   ]
  },
  {
   "cell_type": "code",
   "execution_count": null,
   "metadata": {},
   "outputs": [],
   "source": [
    "output = {\n",
    "    \"times\": list(times*1e3+200), # shift times to center bin of each tick\n",
    "    \"amplitudes\": list(RC),\n",
    "}"
   ]
  },
  {
   "cell_type": "code",
   "execution_count": null,
   "metadata": {},
   "outputs": [],
   "source": [
    "with open(OUTPUT, 'w') as f:\n",
    "    json.dump(output, f)"
   ]
  },
  {
   "cell_type": "code",
   "execution_count": null,
   "metadata": {},
   "outputs": [],
   "source": []
  }
 ],
 "metadata": {
  "kernelspec": {
   "display_name": "Python 3 (ipykernel)",
   "language": "python",
   "name": "python3"
  },
  "language_info": {
   "codemirror_mode": {
    "name": "ipython",
    "version": 3
   },
   "file_extension": ".py",
   "mimetype": "text/x-python",
   "name": "python",
   "nbconvert_exporter": "python",
   "pygments_lexer": "ipython3",
   "version": "3.8.10"
  }
 },
 "nbformat": 4,
 "nbformat_minor": 4
}
