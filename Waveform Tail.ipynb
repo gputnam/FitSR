{
 "cells": [
  {
   "cell_type": "code",
   "execution_count": null,
   "metadata": {},
   "outputs": [],
   "source": [
    "import json\n",
    "import numpy as np\n",
    "import matplotlib.pyplot as plt\n",
    "import uproot\n",
    "import matplotlib as mpl\n",
    "import math\n",
    "\n",
    "from scipy.optimize import curve_fit\n",
    "from scipy import interpolate, special\n",
    "from scipy.stats import norm as normal\n",
    "\n",
    "import cProfile\n",
    "\n",
    "import inspect\n",
    "\n",
    "import os"
   ]
  },
  {
   "cell_type": "code",
   "execution_count": null,
   "metadata": {},
   "outputs": [],
   "source": [
    "RUNS = [9133]\n",
    "TPCs = [\"EE\",\"EW\",\"WE\",\"WW\"]\n",
    "IPLANE = 2\n",
    "\n",
    "THETA = 50\n",
    "THETA_HI = THETA + 2\n",
    "THETA_LOS = np.array(range(60, 80, 2))\n",
    "THETA_HIS = THETA_LOS + 2"
   ]
  },
  {
   "cell_type": "code",
   "execution_count": null,
   "metadata": {},
   "outputs": [],
   "source": [
    "data_files = [\"./data/baseline-fix/%i/WFresults_Plane%i_%s.root\" % (RUN, IPLANE, TPC) for RUN in RUNS for TPC in TPCs]\n",
    "\n",
    "# data_files = [ \"./mc/far_TrackBased_official/WFresults_Plane%i_XX.root\" % IPLANE]\n",
    "\n",
    "data_hfiles = [uproot.open(f) for f in data_files]\n",
    "data_hs = [hf[\"AnodeRecoHist1D_%ito%i\" % (tlo, thi)] for hf in data_hfiles for (tlo, thi) in zip (THETA_LOS, THETA_HIS)]\n",
    "data_h_val = np.average([h.values() for h in data_hs], axis=0)\n",
    "data_h_center = data_hs[0].axis().centers()"
   ]
  },
  {
   "cell_type": "code",
   "execution_count": null,
   "metadata": {},
   "outputs": [],
   "source": [
    "def norm(v, vnorm=None):\n",
    "    if vnorm is None:\n",
    "        vnorm = v\n",
    "    if IPLANE == 2:\n",
    "        return v / vnorm.max()\n",
    "    else:\n",
    "        return v / np.abs(vnorm.min())"
   ]
  },
  {
   "cell_type": "code",
   "execution_count": null,
   "metadata": {},
   "outputs": [],
   "source": [
    "baseline = np.average(data_h_val[:50])\n",
    "data_h_val -= baseline\n",
    "\n",
    "baseline"
   ]
  },
  {
   "cell_type": "code",
   "execution_count": null,
   "metadata": {},
   "outputs": [],
   "source": [
    "plt.plot(data_h_center, norm(data_h_val), linestyle=\"none\", marker=\".\", label=\"Data\")\n",
    "#plt.xlim([-10, 10])\n",
    "plt.legend()\n",
    "plt.axhline([0], color=\"r\")"
   ]
  },
  {
   "cell_type": "code",
   "execution_count": null,
   "metadata": {},
   "outputs": [],
   "source": [
    "def exp(t, a, t0):\n",
    "    return a*np.exp(-t/t0)*(t > 0)"
   ]
  },
  {
   "cell_type": "code",
   "execution_count": null,
   "metadata": {},
   "outputs": [],
   "source": [
    "p0 = [0.1, 65]\n",
    "\n",
    "popt, perr = curve_fit(exp, data_h_center[data_h_center>40], norm(data_h_val)[data_h_center>40], p0=p0)\n",
    "popt[1]"
   ]
  },
  {
   "cell_type": "code",
   "execution_count": null,
   "metadata": {},
   "outputs": [],
   "source": [
    "tau = popt[1]\n",
    "\n",
    "t2=80\n",
    "t1=40\n",
    "\n",
    "area_tail = np.sum(data_h_val[data_h_center>t1])\n",
    "\n",
    "frac_area = area_tail / np.sum(data_h_val)\n",
    "\n",
    "RCA = area_tail*np.exp((t1+t2)/tau) / (np.exp(t2/tau) - np.exp(t1/tau))\n",
    "\n",
    "frac_area_to_inf = RCA / (np.sum(data_h_val) + RCA*np.exp(-t2/tau))\n",
    "\n",
    "frac_area, frac_area_to_inf"
   ]
  },
  {
   "cell_type": "code",
   "execution_count": null,
   "metadata": {},
   "outputs": [],
   "source": [
    "plt.plot(data_h_center, norm(data_h_val), linestyle=\"none\", marker=\".\", label=\"Data\")\n",
    "#plt.xlim([-10, 10])\n",
    "plt.plot(data_h_center[data_h_center>0], exp(data_h_center[data_h_center>0], *popt), label=\"RC Tail Fit\")\n",
    "\n",
    "plt.legend()\n",
    "plt.yscale(\"log\")\n",
    "plt.text(0.6, 0.125, \"RC: %.1f$\\\\mu$s\\n$\\\\frac{\\\\sum wvf(t > %.0f\\\\mu s)}{\\\\sum wvf}$: %.3f\\n$\\\\frac{\\\\int_0^\\\\infty A exp[-t/RC]}{\\\\sum wvf + \\\\int_{%.0f}^\\\\infty A exp[-t/RC]}$: %.3f\" % (popt[1], t1, frac_area, t2, frac_area_to_inf), fontsize=12, transform=plt.gca().transAxes)\n",
    "plt.title(\"Averaged Waveform Data\")\n",
    "plt.ylabel(\"Normalized Amplitude\")\n",
    "plt.xlabel(\"Time [$\\\\mu$s]\")"
   ]
  },
  {
   "cell_type": "code",
   "execution_count": null,
   "metadata": {},
   "outputs": [],
   "source": [
    "plt.plot(data_h_center, (data_h_val) / data_h_val.sum()/(1-0.161), linestyle=\"none\", marker=\".\", label=\"Data\")\n",
    "#plt.xlim([-10, 10])\n",
    "plt.plot(data_h_center[data_h_center>0], exp(data_h_center[data_h_center>0], *popt), label=\"RC Tail Fit\")\n",
    "\n",
    "plt.legend()\n",
    "plt.yscale(\"log\")\n",
    "plt.text(0.6, 0.125, \"RC: %.1f$\\\\mu$s\\n$\\\\frac{\\\\sum wvf(t > %.0f\\\\mu s)}{\\\\sum wvf}$: %.3f\\n$\\\\frac{\\\\int_0^\\\\infty A exp[-t/RC]}{\\\\sum wvf + \\\\int_{%.0f}^\\\\infty A exp[-t/RC]}$: %.3f\" % (popt[1], t1, frac_area, t2, frac_area_to_inf), fontsize=12, transform=plt.gca().transAxes)\n",
    "plt.title(\"Averaged Waveform Data\")\n",
    "plt.ylabel(\"Normalized Amplitude\")\n",
    "plt.xlabel(\"Time [$\\\\mu$s]\")"
   ]
  },
  {
   "cell_type": "code",
   "execution_count": null,
   "metadata": {},
   "outputs": [],
   "source": []
  }
 ],
 "metadata": {
  "kernelspec": {
   "display_name": "Python 3 (ipykernel)",
   "language": "python",
   "name": "python3"
  },
  "language_info": {
   "codemirror_mode": {
    "name": "ipython",
    "version": 3
   },
   "file_extension": ".py",
   "mimetype": "text/x-python",
   "name": "python",
   "nbconvert_exporter": "python",
   "pygments_lexer": "ipython3",
   "version": "3.8.10"
  }
 },
 "nbformat": 4,
 "nbformat_minor": 4
}
